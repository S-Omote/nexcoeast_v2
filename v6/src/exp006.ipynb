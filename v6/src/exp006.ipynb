{
 "cells": [
  {
   "cell_type": "code",
   "execution_count": 25,
   "metadata": {},
   "outputs": [],
   "source": [
    "# ========================================\n",
    "# Library\n",
    "# ========================================\n",
    "import math\n",
    "import random\n",
    "import pickle\n",
    "import joblib\n",
    "import itertools\n",
    "import warnings\n",
    "warnings.filterwarnings('ignore')\n",
    "\n",
    "import numpy as np\n",
    "import pandas as pd\n",
    "pd.set_option('display.max_columns', None)\n",
    "import matplotlib.pyplot as plt\n",
    "import seaborn as sns\n",
    "import japanize_matplotlib\n",
    "import jpholiday\n",
    "from glob import glob\n",
    "from tqdm import tqdm\n",
    "from sklearn.model_selection import (\n",
    "    TimeSeriesSplit,\n",
    "    StratifiedKFold,\n",
    "    KFold,\n",
    "    GroupKFold,\n",
    "    StratifiedGroupKFold,\n",
    ")\n",
    "from sklearn.preprocessing import LabelEncoder\n",
    "from sklearn.metrics import f1_score, roc_auc_score, classification_report\n",
    "from scipy.optimize import minimize\n",
    "import lightgbm as lgb\n",
    "import datetime"
   ]
  },
  {
   "cell_type": "code",
   "execution_count": 26,
   "metadata": {},
   "outputs": [],
   "source": [
    "road_df = pd.read_csv('C:/Users/brain/Desktop/nexcoeast_v2/train/road.csv')\n",
    "search_spec_df = pd.read_csv('C:/Users/brain/Desktop/nexcoeast_v2/train/search_data.csv')\n",
    "search_unspec_df = pd.read_csv('C:/Users/brain/Desktop/nexcoeast_v2/train/search_unspec_data.csv')\n",
    "train_df = pd.read_csv('C:/Users/brain/Desktop/nexcoeast_v2/train/train.csv')\n",
    "speed_df = pd.read_csv('C:/Users/brain/Desktop/nexcoeast_v2/train/speed_max_min_median_std.csv')"
   ]
  },
  {
   "cell_type": "code",
   "execution_count": 27,
   "metadata": {},
   "outputs": [
    {
     "name": "stdout",
     "output_type": "stream",
     "text": [
      "<class 'pandas.core.frame.DataFrame'>\n",
      "RangeIndex: 79 entries, 0 to 78\n",
      "Data columns (total 6 columns):\n",
      " #   Column        Non-Null Count  Dtype  \n",
      "---  ------        --------------  -----  \n",
      " 0   start_code    79 non-null     int64  \n",
      " 1   end_code      79 non-null     int64  \n",
      " 2   max_speed     79 non-null     float64\n",
      " 3   min_speed     79 non-null     float64\n",
      " 4   median_speed  79 non-null     float64\n",
      " 5   std_speed     79 non-null     float64\n",
      "dtypes: float64(4), int64(2)\n",
      "memory usage: 3.8 KB\n",
      "None\n"
     ]
    }
   ],
   "source": [
    "print(speed_df.info())\n",
    "#speed_df = speed_df.astype({'section': \"int32\"})\n",
    "#print(speed_df.info())"
   ]
  },
  {
   "cell_type": "code",
   "execution_count": 28,
   "metadata": {},
   "outputs": [],
   "source": [
    "def expand_datetime(df):\n",
    "    if 'datetime' in df.columns:\n",
    "        df['year'] = df['datetime'].dt.year\n",
    "        df['month'] = df['datetime'].dt.month\n",
    "        df['day'] = df['datetime'].dt.day\n",
    "        df['hour'] = df['datetime'].dt.hour\n",
    "    if 'date' in df.columns:\n",
    "        df['year'] = df['date'].dt.year\n",
    "        df['month'] = df['date'].dt.month\n",
    "        df['day'] = df['date'].dt.day\n",
    "\n",
    "    return df\n",
    "\n",
    "# 条件分岐の関数を定義\n",
    "def judge_dayoff(x):\n",
    "    # 土日なら1を返す\n",
    "    if  x > 5:\n",
    "        return 1\n",
    "    # 平日なら0を返す\n",
    "    else:\n",
    "        return 0\n",
    "    \n",
    "def func_speed(x):\n",
    "    if x.allCars == 0:\n",
    "        return float(80)\n",
    "    else:\n",
    "        return x.speed"
   ]
  },
  {
   "cell_type": "code",
   "execution_count": 29,
   "metadata": {},
   "outputs": [],
   "source": [
    "def extract_dataset(train_df, search_spec_df, search_unspec_df, speed_df):\n",
    "    train_df['section'] = train_df['start_code'].astype(str)+'_'+train_df['end_code'].astype(str)\n",
    "    #train_df = train_df.astype({'section': \"str\"})\n",
    "    train_df['datetime'] = pd.to_datetime(train_df['datetime'])\n",
    "    search_spec_df['datetime'] = pd.to_datetime(search_spec_df['datetime'])\n",
    "    search_unspec_df['date'] = pd.to_datetime(search_unspec_df['date'])\n",
    "    # dateから、祝日か否か判定する。祝日なら1。\n",
    "    search_unspec_df['is_holiday'] = search_unspec_df['date'].map(jpholiday.is_holiday).astype(int)\n",
    "\n",
    "    train_df = expand_datetime(train_df)\n",
    "    # search_spec_df = expand_datetime(search_spec_df)\n",
    "    search_unspec_df = expand_datetime(search_unspec_df)\n",
    "\n",
    "    train_df = train_df.merge(search_spec_df, on=['datetime', 'start_code', 'end_code'], how='left')\n",
    "    train_df = train_df.merge(search_unspec_df, on=['year', 'month', 'day', 'start_code', 'end_code'], how='left')\n",
    "    train_df = train_df.merge(road_df.drop(['start_name', 'end_name'], axis=1), on=['start_code', 'end_code'], how='left')\n",
    "\n",
    "    train_df['dayofweek'] = train_df['datetime'].dt.weekday\n",
    "\n",
    "    # allCars=0の場合、speedを80にする\n",
    "    train_df['speed'] = train_df.apply(lambda x:func_speed(x), axis=1)\n",
    "\n",
    "    # max, minなどの情報をマージ\n",
    "    #train_df = pd.merge(train_df, speed_df, on=['start_code', 'end_code'], how='left')\n",
    "\n",
    "    return train_df"
   ]
  },
  {
   "cell_type": "code",
   "execution_count": 30,
   "metadata": {},
   "outputs": [
    {
     "name": "stdout",
     "output_type": "stream",
     "text": [
      "<class 'pandas.core.frame.DataFrame'>\n",
      "Int64Index: 910080 entries, 0 to 910079\n",
      "Data columns (total 31 columns):\n",
      " #   Column            Non-Null Count   Dtype         \n",
      "---  ------            --------------   -----         \n",
      " 0   datetime          910080 non-null  datetime64[ns]\n",
      " 1   start_code        910080 non-null  int64         \n",
      " 2   end_code          910080 non-null  int64         \n",
      " 3   OCC               910080 non-null  float64       \n",
      " 4   allCars           910080 non-null  int64         \n",
      " 5   speed             910080 non-null  float64       \n",
      " 6   is_congestion     910080 non-null  int64         \n",
      " 7   section           910080 non-null  object        \n",
      " 8   year              910080 non-null  int64         \n",
      " 9   month             910080 non-null  int64         \n",
      " 10  day               910080 non-null  int64         \n",
      " 11  hour              910080 non-null  int64         \n",
      " 12  search_1h         910080 non-null  float64       \n",
      " 13  date              910080 non-null  datetime64[ns]\n",
      " 14  search_unspec_1d  910080 non-null  float64       \n",
      " 15  is_holiday        910080 non-null  int32         \n",
      " 16  start_pref_code   910080 non-null  int64         \n",
      " 17  end_pref_code     910080 non-null  int64         \n",
      " 18  start_lat         910080 non-null  float64       \n",
      " 19  end_lat           910080 non-null  float64       \n",
      " 20  start_lng         910080 non-null  float64       \n",
      " 21  end_lng           910080 non-null  float64       \n",
      " 22  start_degree      910080 non-null  float64       \n",
      " 23  end_degree        910080 non-null  float64       \n",
      " 24  KP                910080 non-null  float64       \n",
      " 25  direction         910080 non-null  object        \n",
      " 26  start_KP          910080 non-null  float64       \n",
      " 27  end_KP            910080 non-null  float64       \n",
      " 28  limit_speed       910080 non-null  int64         \n",
      " 29  road_code         910080 non-null  int64         \n",
      " 30  dayofweek         910080 non-null  int64         \n",
      "dtypes: datetime64[ns](2), float64(13), int32(1), int64(13), object(2)\n",
      "memory usage: 218.7+ MB\n",
      "None\n"
     ]
    }
   ],
   "source": [
    "train = extract_dataset(train_df, search_spec_df, search_unspec_df, speed_df)\n",
    "\n",
    "# モデルに入力する特徴量をカテゴリ/数値変数ごとに選択する。\n",
    "cat_cols = ['road_code', 'start_code', 'end_code', 'section', 'direction', 'dayofweek', 'is_holiday']\n",
    "num_cols = ['year', 'month', 'day', 'hour', 'search_1h', 'search_unspec_1d', 'KP', 'start_KP', 'end_KP', 'limit_speed',\n",
    "            'OCC', 'allCars', 'speed', 'start_pref_code', 'end_pref_code', 'start_lat', 'end_lat', 'start_lng', 'end_lng',\n",
    "            'start_degree', 'end_degree']\n",
    "feature_cols = cat_cols + num_cols\n",
    "print(train.info())"
   ]
  },
  {
   "cell_type": "code",
   "execution_count": 31,
   "metadata": {},
   "outputs": [
    {
     "name": "stderr",
     "output_type": "stream",
     "text": [
      "100%|██████████| 7/7 [00:00<00:00, 15.75it/s]\n"
     ]
    }
   ],
   "source": [
    "# ========================================\n",
    "# カテゴリ変数の処理\n",
    "# ========================================\n",
    "le_dict = {}\n",
    "for c in tqdm(cat_cols):\n",
    "    le = LabelEncoder()\n",
    "    le.fit(train[c])\n",
    "    train[c] = le.transform(train[c])\n",
    "    le_dict[c] = le\n",
    "\n",
    "with open(\"features/le_dict.pkl\", \"wb\") as f:\n",
    "    pickle.dump(le_dict, f)"
   ]
  },
  {
   "cell_type": "code",
   "execution_count": 32,
   "metadata": {},
   "outputs": [],
   "source": [
    "# ========================================\n",
    "# training module\n",
    "# ========================================\n",
    "def f1(y_true, y_pred):\n",
    "    y_pred = (y_pred > 0.5).astype(int)\n",
    "    score = f1_score(y_true, y_pred)\n",
    "    return 'f1', score, True\n",
    "\n",
    "def train_lgbm(X,\n",
    "               y,\n",
    "               cv,\n",
    "               model_path = [],\n",
    "               params: dict=None,\n",
    "               verbose: int=100\n",
    "               ):\n",
    "\n",
    "    # パラメータがないときは、空の dict で置き換える\n",
    "    if params is None:\n",
    "        params = {}\n",
    "\n",
    "    models = []\n",
    "    n_records = len(X)\n",
    "    # training data の target と同じだけのゼロ配列を用意\n",
    "    oof_pred = np.zeros((n_records, ), dtype=np.float32)\n",
    "\n",
    "    for i, (idx_train, idx_valid) in enumerate(cv):\n",
    "        x_train, y_train = X[idx_train], y[idx_train]\n",
    "        x_valid, y_valid = X[idx_valid], y[idx_valid]\n",
    "\n",
    "\n",
    "        clf = lgb.LGBMClassifier(**params)\n",
    "\n",
    "        clf.fit(x_train, y_train,\n",
    "                eval_set=[(x_valid, y_valid)],\n",
    "                early_stopping_rounds=100,\n",
    "                verbose=verbose,\n",
    "                eval_metric=f1,\n",
    "                )\n",
    "\n",
    "        pred_i = clf.predict(x_valid)\n",
    "        oof_pred[idx_valid] = pred_i\n",
    "        models.append(clf)\n",
    "        score = f1_score(y_valid, (pred_i > 0.5).astype(int))\n",
    "        print(f\" - fold{i + 1} - {score:.4f}\")\n",
    "\n",
    "    score = f1_score(y, (oof_pred > 0.5).astype(int))\n",
    "\n",
    "    print(\"=\" * 50)\n",
    "    print(f\"FINISH: CV Score: {score:.4f}\")\n",
    "    return score, oof_pred, models"
   ]
  },
  {
   "cell_type": "code",
   "execution_count": 33,
   "metadata": {},
   "outputs": [
    {
     "name": "stdout",
     "output_type": "stream",
     "text": [
      "train shape: (910080, 31)\n",
      "[100]\tvalid_0's binary_logloss: 0.00188388\tvalid_0's f1: 0.957801\n",
      "[200]\tvalid_0's binary_logloss: 0.00104584\tvalid_0's f1: 0.959236\n",
      " - fold1 - 0.9598\n",
      "[100]\tvalid_0's binary_logloss: 0.00180318\tvalid_0's f1: 0.960352\n",
      "[200]\tvalid_0's binary_logloss: 0.000913357\tvalid_0's f1: 0.966334\n",
      " - fold2 - 0.9663\n",
      "[100]\tvalid_0's binary_logloss: 0.00196457\tvalid_0's f1: 0.950434\n",
      "[200]\tvalid_0's binary_logloss: 0.00114296\tvalid_0's f1: 0.958055\n",
      " - fold3 - 0.9620\n",
      "[100]\tvalid_0's binary_logloss: 0.00157984\tvalid_0's f1: 0.97475\n",
      " - fold4 - 0.9770\n",
      "[100]\tvalid_0's binary_logloss: 0.00205421\tvalid_0's f1: 0.950895\n",
      "[200]\tvalid_0's binary_logloss: 0.00124405\tvalid_0's f1: 0.955037\n",
      "[300]\tvalid_0's binary_logloss: 0.00113199\tvalid_0's f1: 0.955874\n",
      " - fold5 - 0.9582\n",
      "==================================================\n",
      "FINISH: CV Score: 0.9647\n"
     ]
    }
   ],
   "source": [
    "# ========================================\n",
    "# parameters\n",
    "# ========================================\n",
    "max_depth = 7\n",
    "params = {\n",
    "    \"objective\": \"binary\",\n",
    "    \"max_depth\": max_depth,\n",
    "    'num_leaves' : int(0.7 * 2 ** max_depth),#240\n",
    "    \"n_estimators\": 100000,\n",
    "    \"learning_rate\": 0.02,\n",
    "    \"importance_type\": \"gain\",\n",
    "    \"random_state\": 42,\n",
    "    \"verbose\": -1,\n",
    "}\n",
    "# ========================================\n",
    "# train-validation split\n",
    "# ========================================\n",
    "TARGET = 'is_congestion'\n",
    "N_SPLIT = 5\n",
    "kf = StratifiedGroupKFold(N_SPLIT)\n",
    "cv_list = list(kf.split(train, y=train[TARGET], groups=train['date']))\n",
    "\n",
    "# ========================================\n",
    "# define variables\n",
    "# ========================================\n",
    "X = train[feature_cols].values\n",
    "y = train[TARGET].values\n",
    "\n",
    "print('train shape:', train.shape)\n",
    "# ========================================\n",
    "# training\n",
    "# ========================================\n",
    "score, oof_pred, models = train_lgbm(X, y=y, params=params, cv=cv_list)"
   ]
  },
  {
   "cell_type": "code",
   "execution_count": 34,
   "metadata": {},
   "outputs": [
    {
     "name": "stdout",
     "output_type": "stream",
     "text": [
      "              precision    recall  f1-score   support\n",
      "\n",
      "           0       1.00      1.00      1.00    906031\n",
      "           1       0.95      0.98      0.96      4049\n",
      "\n",
      "    accuracy                           1.00    910080\n",
      "   macro avg       0.97      0.99      0.98    910080\n",
      "weighted avg       1.00      1.00      1.00    910080\n",
      "\n",
      "4049 4198.0\n"
     ]
    }
   ],
   "source": [
    "for i, m in enumerate(models):\n",
    "   with open(f'../model/lgb_fold{i}.pickle', mode=\"wb\") as f:\n",
    "      pickle.dump(m, f)\n",
    "\n",
    "print(classification_report(train['is_congestion'], oof_pred))\n",
    "print(train['is_congestion'].sum(), oof_pred.sum())"
   ]
  },
  {
   "cell_type": "code",
   "execution_count": 35,
   "metadata": {},
   "outputs": [
    {
     "data": {
      "image/png": "[encoded data removed]",
      "text/plain": [
       "<Figure size 1200x700 with 1 Axes>"
      ]
     },
     "metadata": {},
     "output_type": "display_data"
    }
   ],
   "source": [
    "# ========================================\n",
    "# feature importance\n",
    "# ========================================\n",
    "def visualize_importance(models, feat_train_df):\n",
    "    feature_importance_df = pd.DataFrame()\n",
    "    for i, model in enumerate(models):\n",
    "        _df = pd.DataFrame()\n",
    "        _df[\"feature_importance\"] = model.feature_importances_\n",
    "        _df[\"column\"] = feat_train_df.columns\n",
    "        _df[\"fold\"] = i + 1\n",
    "        feature_importance_df = pd.concat([feature_importance_df, _df],\n",
    "                                          axis=0, ignore_index=True)\n",
    "\n",
    "    order = feature_importance_df.groupby(\"column\")\\\n",
    "        .sum()[[\"feature_importance\"]]\\\n",
    "        .sort_values(\"feature_importance\", ascending=False).index\n",
    "\n",
    "    fig, ax = plt.subplots(figsize=(12, max(6, len(order) * .25)))\n",
    "    sns.boxplot(data=feature_importance_df,\n",
    "                  x=\"feature_importance\",\n",
    "                  y=\"column\",\n",
    "                  order=order,\n",
    "                  ax=ax,\n",
    "                  palette=\"viridis\",\n",
    "                  orient=\"h\")\n",
    "    ax.tick_params(axis=\"x\", rotation=90)\n",
    "    ax.set_title(\"Importance\")\n",
    "    ax.grid()\n",
    "    fig.tight_layout()\n",
    "    return fig, ax, feature_importance_df\n",
    "\n",
    "fig, ax, feature_importance_df = visualize_importance(models, train[feature_cols])"
   ]
  }
 ],
 "metadata": {
  "kernelspec": {
   "display_name": "signate",
   "language": "python",
   "name": "python3"
  },
  "language_info": {
   "codemirror_mode": {
    "name": "ipython",
    "version": 3
   },
   "file_extension": ".py",
   "mimetype": "text/x-python",
   "name": "python",
   "nbconvert_exporter": "python",
   "pygments_lexer": "ipython3",
   "version": "3.9.13"
  },
  "orig_nbformat": 4
 },
 "nbformat": 4,
 "nbformat_minor": 2
}
