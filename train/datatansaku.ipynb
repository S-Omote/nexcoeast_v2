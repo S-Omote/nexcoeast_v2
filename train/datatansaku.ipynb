{
 "cells": [
  {
   "cell_type": "code",
   "execution_count": null,
   "metadata": {},
   "outputs": [],
   "source": [
    "# ========================================\n",
    "# Library\n",
    "# ========================================\n",
    "import math\n",
    "import random\n",
    "import pickle\n",
    "import joblib\n",
    "import itertools\n",
    "import warnings\n",
    "warnings.filterwarnings('ignore')\n",
    "\n",
    "import numpy as np\n",
    "import pandas as pd\n",
    "pd.set_option('display.max_columns', None)\n",
    "import matplotlib.pyplot as plt\n",
    "import seaborn as sns\n",
    "import japanize_matplotlib\n",
    "import jpholiday\n",
    "from glob import glob\n",
    "from tqdm import tqdm\n",
    "from sklearn.model_selection import (\n",
    "    TimeSeriesSplit,\n",
    "    StratifiedKFold,\n",
    "    KFold,\n",
    "    GroupKFold,\n",
    "    StratifiedGroupKFold,\n",
    ")\n",
    "from sklearn.preprocessing import LabelEncoder\n",
    "from sklearn.metrics import f1_score, roc_auc_score, classification_report\n",
    "from scipy.optimize import minimize\n",
    "import lightgbm as lgb\n",
    "import datetime"
   ]
  },
  {
   "cell_type": "code",
   "execution_count": null,
   "metadata": {},
   "outputs": [],
   "source": [
    "#road_df = pd.read_csv('C:/Users/brain/Desktop/nexcoeast_v2/train/road.csv')\n",
    "#search_spec_df = pd.read_csv('C:/Users/brain/Desktop/nexcoeast_v2/train/search_data.csv')\n",
    "#search_unspec_df = pd.read_csv('C:/Users/brain/Desktop/nexcoeast_v2/train/search_unspec_data.csv')\n",
    "train_df = pd.read_csv('C:/Users/brain/Desktop/nexcoeast_v2/train/train.csv')"
   ]
  },
  {
   "cell_type": "code",
   "execution_count": null,
   "metadata": {},
   "outputs": [],
   "source": [
    "train_df['datetime'] = pd.to_datetime(train_df['datetime'])\n",
    "train_df['section'] = train_df['start_code'].astype(str)+'_'+train_df['end_code'].astype(str)\n",
    "section = train_df['section'].unique()  # numpy型\n",
    "train_df['date'] = train_df['datetime'].dt.date"
   ]
  },
  {
   "cell_type": "code",
   "execution_count": null,
   "metadata": {},
   "outputs": [],
   "source": [
    "\n",
    "df = train_df[8762:9481]\n",
    "tmp = df[df['section']==section[0]][['datetime', 'allCars']].set_index('datetime')\n",
    "color = 'blue'\n",
    "plt.figure(figsize=(10, 5))\n",
    "plt.plot(tmp, label=section[0], marker='.', c=color)\n",
    "plt.title(section[0])\n",
    "plt.xlabel('datetime')\n",
    "plt.ylabel('allCars')\n",
    "plt.legend()\n",
    "plt.grid()\n",
    "plt.show()\n",
    "\n",
    "\n",
    "'''for s in section:\n",
    "    tmp = train_df[train_df['section']==s][['datetime', 'allCars']].set_index('datetime')\n",
    "    tmp2 = train_df['is_congestion']\n",
    "    color = 'blue'\n",
    "    plt.figure(figsize=(10, 5))\n",
    "    plt.plot(tmp, label=s, marker='.', c=color)\n",
    "    plt.title('all day')\n",
    "    plt.xlabel('datetime')\n",
    "    plt.ylabel('allCars')\n",
    "    plt.legend()\n",
    "    plt.grid()\n",
    "    plt.show()\n",
    "    exit()'''\n",
    "'''for s in section:\n",
    "    x = train_df[train_df['section']==s]['speed']\n",
    "    y = train_df[train_df['section']==s]['is_congestion']\n",
    "    plt.figure(figsize=(10, 5))\n",
    "    plt.scatter(x,y)\n",
    "    plt.title(s)\n",
    "    plt.xlabel('allCars')\n",
    "    plt.ylabel('is_congestion')\n",
    "    plt.legend()\n",
    "    plt.grid()\n",
    "    plt.show()\n",
    "    exit()'''"
   ]
  }
 ],
 "metadata": {
  "kernelspec": {
   "display_name": "signate",
   "language": "python",
   "name": "python3"
  },
  "language_info": {
   "codemirror_mode": {
    "name": "ipython",
    "version": 3
   },
   "file_extension": ".py",
   "mimetype": "text/x-python",
   "name": "python",
   "nbconvert_exporter": "python",
   "pygments_lexer": "ipython3",
   "version": "3.9.13"
  },
  "orig_nbformat": 4
 },
 "nbformat": 4,
 "nbformat_minor": 2
}
